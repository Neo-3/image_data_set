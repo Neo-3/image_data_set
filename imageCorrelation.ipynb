{
 "cells": [
  {
   "cell_type": "code",
   "execution_count": 1,
   "metadata": {},
   "outputs": [
    {
     "name": "stderr",
     "output_type": "stream",
     "text": [
      "Using TensorFlow backend.\n"
     ]
    }
   ],
   "source": [
    "from keras.preprocessing import image\n",
    "from keras.applications.vgg16 import VGG16\n",
    "from keras.applications.vgg16 import preprocess_input\n",
    "import pandas as pd\n",
    "import numpy as np\n",
    "import os, shutil, glob, os.path\n",
    "from PIL import Image as pil_image\n",
    "import matplotlib.pyplot as plt"
   ]
  },
  {
   "cell_type": "code",
   "execution_count": 2,
   "metadata": {},
   "outputs": [
    {
     "name": "stderr",
     "output_type": "stream",
     "text": [
      "WARNING: Logging before flag parsing goes to stderr.\n",
      "W0524 20:43:37.332023 140130645100352 deprecation_wrapper.py:119] From /opt/conda/lib/python3.7/site-packages/keras/backend/tensorflow_backend.py:74: The name tf.get_default_graph is deprecated. Please use tf.compat.v1.get_default_graph instead.\n",
      "\n",
      "W0524 20:43:37.345724 140130645100352 deprecation_wrapper.py:119] From /opt/conda/lib/python3.7/site-packages/keras/backend/tensorflow_backend.py:529: The name tf.placeholder is deprecated. Please use tf.compat.v1.placeholder instead.\n",
      "\n",
      "W0524 20:43:37.403120 140130645100352 deprecation_wrapper.py:119] From /opt/conda/lib/python3.7/site-packages/keras/backend/tensorflow_backend.py:4420: The name tf.random_uniform is deprecated. Please use tf.random.uniform instead.\n",
      "\n",
      "W0524 20:43:37.432808 140130645100352 deprecation_wrapper.py:119] From /opt/conda/lib/python3.7/site-packages/keras/backend/tensorflow_backend.py:4255: The name tf.nn.max_pool is deprecated. Please use tf.nn.max_pool2d instead.\n",
      "\n",
      "W0524 20:43:37.751728 140130645100352 deprecation_wrapper.py:119] From /opt/conda/lib/python3.7/site-packages/keras/backend/tensorflow_backend.py:178: The name tf.get_default_session is deprecated. Please use tf.compat.v1.get_default_session instead.\n",
      "\n",
      "W0524 20:43:37.752586 140130645100352 deprecation_wrapper.py:119] From /opt/conda/lib/python3.7/site-packages/keras/backend/tensorflow_backend.py:185: The name tf.ConfigProto is deprecated. Please use tf.compat.v1.ConfigProto instead.\n",
      "\n"
     ]
    }
   ],
   "source": [
    "# load VGG16 model\n",
    "\n",
    "image.LOAD_TRUNCATED_IMAGES = True \n",
    "model = VGG16(weights='imagenet', include_top=False)"
   ]
  },
  {
   "cell_type": "code",
   "execution_count": 3,
   "metadata": {},
   "outputs": [],
   "source": [
    "badImgDir = './clusters/teste/0'\n",
    "goodImgDir = './clusters/teste/1'\n",
    "\n",
    "\n",
    "# get images\n",
    "goodFiles = glob.glob(os.path.join(goodImgDir, '*.jpg'))\n",
    "goodFiles.sort()\n",
    "\n",
    "badFiles = glob.glob(os.path.join(badImgDir, '*.jpg'))\n",
    "badFiles.sort()"
   ]
  },
  {
   "cell_type": "code",
   "execution_count": 4,
   "metadata": {},
   "outputs": [],
   "source": [
    "# Using Keras to get data from image\n",
    "\n",
    "def getFeature(file):\n",
    "\n",
    "    features = []\n",
    "\n",
    "    for i, imagepath in enumerate(file):\n",
    "        print(\"Status:\", i+1, \"/\", len(file), end=\"\\r\")\n",
    "\n",
    "        img = image.load_img(imagepath, target_size=(256, 256))\n",
    "        img_data = image.img_to_array(img)\n",
    "        img_data = np.expand_dims(img_data, axis=0)\n",
    "        img_data = preprocess_input(img_data)\n",
    "\n",
    "        feat = np.array(model.predict(img_data))\n",
    "        features.append(feat.flatten())\n",
    "\n",
    "    return features"
   ]
  },
  {
   "cell_type": "code",
   "execution_count": 5,
   "metadata": {},
   "outputs": [
    {
     "name": "stdout",
     "output_type": "stream",
     "text": [
      "Status: 91 / 91\r"
     ]
    }
   ],
   "source": [
    "dfGood = pd.DataFrame(getFeature(goodFiles))"
   ]
  },
  {
   "cell_type": "code",
   "execution_count": 6,
   "metadata": {},
   "outputs": [
    {
     "name": "stdout",
     "output_type": "stream",
     "text": [
      "Status: 91 / 91\r"
     ]
    }
   ],
   "source": [
    "dfBad = pd.DataFrame(getFeature(badFiles))"
   ]
  },
  {
   "cell_type": "code",
   "execution_count": 7,
   "metadata": {},
   "outputs": [],
   "source": [
    "goodTarget = []\n",
    "\n",
    "for i in range(len(dfGood)):\n",
    "    goodTarget.append(1)\n",
    "    \n",
    "badTarget = []\n",
    "\n",
    "for i in range(len(dfBad)):\n",
    "    badTarget.append(0)"
   ]
  },
  {
   "cell_type": "code",
   "execution_count": 8,
   "metadata": {},
   "outputs": [],
   "source": [
    "dfGood[\"Target\"] = goodTarget\n",
    "dfBad[\"Target\"] = badTarget"
   ]
  },
  {
   "cell_type": "code",
   "execution_count": 9,
   "metadata": {},
   "outputs": [],
   "source": [
    "df = dfGood.append(dfBad)"
   ]
  },
  {
   "cell_type": "code",
   "execution_count": 10,
   "metadata": {},
   "outputs": [],
   "source": [
    "#df.to_csv(\"imageDataSet.csv\", encoding='utf-8', index=False)\n",
    "corr = df.corr()"
   ]
  },
  {
   "cell_type": "code",
   "execution_count": 20,
   "metadata": {},
   "outputs": [
    {
     "name": "stdout",
     "output_type": "stream",
     "text": [
      "[1621, 5193, 8683, 9170, 9200, 9289, 9636, 9692, 10148, 10204, 10660, 11760, 12754, 12779, 13266, 13732, 13788, 14244, 14756, 15268, 16875, 17591, 17690, 17828, 17852, 18103, 18615, 18714, 18852, 19226, 19364, 21924, 21948, 22199, 22436, 22460, 22948, 23460, 25230, 25742, 26254, 26556, 27068, 32768]\n",
      "----------------\n",
      "[1109, 1111, 1623, 2133, 4693, 4695, 5207, 5319, 8777, 9392, 10825, 13385, 14921, 16969, 17316, 17481, 17723, 17870, 17884, 18202, 18340, 18747, 21687, 22711, 22810, 22972, 23004, 23484, 23739, 25275]\n",
      "----------------\n",
      "[1109, 1111, 1621, 1623, 2133, 4693, 4695, 5193, 5207, 5319, 8683, 8777, 9170, 9200, 9289, 9392, 9636, 9692, 10148, 10204, 10660, 10825, 11760, 12754, 12779, 13266, 13385, 13732, 13788, 14244, 14756, 14921, 15268, 16875, 16969, 17316, 17481, 17591, 17690, 17723, 17828, 17852, 17870, 17884, 18103, 18202, 18340, 18615, 18714, 18747, 18852, 19226, 19364, 21687, 21924, 21948, 22199, 22436, 22460, 22711, 22810, 22948, 22972, 23004, 23460, 23484, 23739, 25230, 25275, 25742, 26254, 26556, 27068, 32768]\n"
     ]
    }
   ],
   "source": [
    "import math\n",
    "\n",
    "last_corr = [1621, 5193, 5616, 6659, 8683, 9170, 9195, 9200, 9289, 9498, 9636, 9692, 10148, 10204, 10660, 11172, 11760, 12754, 12779, 13266, 13276, 13296, 13732, 13788, 14244, 14756, 15268, 15292, 16875, 17591, 17690, 17828, 17852, 18103, 18615, 18714, 18852, 19226, 19364, 21924, 21948, 22199, 22436, 22460, 22948, 23460, 25230, 25742, 26254, 26556, 26578, 27068, 32768]\n",
    "good_corr = []\n",
    "both_corr = []\n",
    "neither_corr = []\n",
    "\n",
    "for index, num in enumerate(corr[\"Target\"]):\n",
    "    if num > 0.5 or num < -0.5:\n",
    "        good_corr.append(index)\n",
    "\n",
    "for index in good_corr:\n",
    "    if index in last_corr:\n",
    "        both_corr.append(index)\n",
    "    else:\n",
    "        neither_corr.append(index)\n",
    "        \n",
    "        \n",
    "print(both_corr)\n",
    "print(\"----------------\")\n",
    "print(neither_corr)\n",
    "print(\"----------------\")\n",
    "print(good_corr)\n"
   ]
  },
  {
   "cell_type": "code",
   "execution_count": null,
   "metadata": {},
   "outputs": [],
   "source": []
  }
 ],
 "metadata": {
  "kernelspec": {
   "display_name": "Python 3",
   "language": "python",
   "name": "python3"
  },
  "language_info": {
   "codemirror_mode": {
    "name": "ipython",
    "version": 3
   },
   "file_extension": ".py",
   "mimetype": "text/x-python",
   "name": "python",
   "nbconvert_exporter": "python",
   "pygments_lexer": "ipython3",
   "version": "3.6.10"
  }
 },
 "nbformat": 4,
 "nbformat_minor": 2
}
