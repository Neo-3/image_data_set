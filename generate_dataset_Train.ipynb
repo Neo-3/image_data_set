{
 "cells": [
  {
   "cell_type": "code",
   "execution_count": 1,
   "metadata": {},
   "outputs": [
    {
     "name": "stderr",
     "output_type": "stream",
     "text": [
      "Using TensorFlow backend.\n"
     ]
    }
   ],
   "source": [
    "from keras.preprocessing import image\n",
    "from keras.applications.vgg16 import VGG16\n",
    "from keras.applications.vgg16 import preprocess_input\n",
    "import pandas as pd\n",
    "import numpy as np\n",
    "import os, shutil, glob, os.path\n",
    "from PIL import Image as pil_image"
   ]
  },
  {
   "cell_type": "code",
   "execution_count": 2,
   "metadata": {},
   "outputs": [],
   "source": [
    "# load VGG16 model\n",
    "\n",
    "image.LOAD_TRUNCATED_IMAGES = True \n",
    "model = VGG16(weights='imagenet', include_top=False)"
   ]
  },
  {
   "cell_type": "code",
   "execution_count": 3,
   "metadata": {},
   "outputs": [],
   "source": [
    "badImgDir = './Train/0'\n",
    "goodImgDir = './Train/1'\n",
    "\n",
    "\n",
    "# get images\n",
    "goodFiles = glob.glob(os.path.join(goodImgDir, '*.jpg'))\n",
    "goodFiles.sort()\n",
    "\n",
    "badFiles = glob.glob(os.path.join(badImgDir, '*.jpg'))\n",
    "badFiles.sort()"
   ]
  },
  {
   "cell_type": "code",
   "execution_count": 4,
   "metadata": {},
   "outputs": [],
   "source": [
    "# Using Keras to get data from image\n",
    "\n",
    "def getFeature(file):\n",
    "\n",
    "    features = []\n",
    "\n",
    "    for i, imagepath in enumerate(file):\n",
    "        print(\"Status:\", i+1, \"/\", len(file), end=\"\\r\")\n",
    "\n",
    "        img = image.load_img(imagepath, target_size=(256, 256))\n",
    "        img_data = image.img_to_array(img)\n",
    "        img_data = np.expand_dims(img_data, axis=0)\n",
    "        img_data = preprocess_input(img_data)\n",
    "\n",
    "        feat = np.array(model.predict(img_data))\n",
    "        features.append(feat.flatten())\n",
    "\n",
    "    return features"
   ]
  },
  {
   "cell_type": "code",
   "execution_count": null,
   "metadata": {},
   "outputs": [],
   "source": [
    "dfGood = pd.DataFrame(getFeature(goodFiles))"
   ]
  },
  {
   "cell_type": "code",
   "execution_count": null,
   "metadata": {},
   "outputs": [
    {
     "name": "stdout",
     "output_type": "stream",
     "text": [
      "Status: 5510 / 5510\r"
     ]
    }
   ],
   "source": [
    "dfBad = pd.DataFrame(getFeature(badFiles))"
   ]
  },
  {
   "cell_type": "code",
   "execution_count": null,
   "metadata": {},
   "outputs": [],
   "source": [
    "goodTarget = []\n",
    "\n",
    "for i in range(len(dfGood)):\n",
    "    goodTarget.append(1)\n",
    "    \n",
    "badTarget = []\n",
    "\n",
    "for i in range(len(dfBad)):\n",
    "    badTarget.append(0)"
   ]
  },
  {
   "cell_type": "code",
   "execution_count": 8,
   "metadata": {},
   "outputs": [],
   "source": [
    "dfGood[\"Target\"] = goodTarget\n",
    "dfBad[\"Target\"] = badTarget"
   ]
  },
  {
   "cell_type": "code",
   "execution_count": 9,
   "metadata": {},
   "outputs": [],
   "source": [
    "df = dfGood.append(dfBad)"
   ]
  },
  {
   "cell_type": "code",
   "execution_count": 10,
   "metadata": {},
   "outputs": [],
   "source": [
    "df_csv = df[[1109, 1111, 1621, 1623, 2133, 4693, 4695, 5193, 5207, 5319, 8683, 8777, 9170, 9200, 9289, 9392, 9636,\n",
    "             9692, 10148, 10204, 10660, 10825, 11760, 12754, 12779, 13266, 13385, 13732, 13788, 14244, 14756, 14921,\n",
    "             15268, 16875, 16969, 17316, 17481, 17591, 17690, 17723, 17828, 17852, 17870, 17884, 18103, 18202, \n",
    "             18340, 18615, 18714, 18747, 18852, 19226, 19364, 21687, 21924, 21948, 22199, 22436, 22460, 22711, \n",
    "             22810, 22948, 22972, 23004, 23460, 23484, 23739, 25230, 25275, 25742, 26254, 26556, 27068, \"Target\"]]"
   ]
  },
  {
   "cell_type": "code",
   "execution_count": 11,
   "metadata": {},
   "outputs": [],
   "source": [
    "df_csv.to_csv(\"imageTrainDataSet.csv\", encoding='utf-8', index=False)"
   ]
  },
  {
   "cell_type": "code",
   "execution_count": null,
   "metadata": {},
   "outputs": [],
   "source": []
  }
 ],
 "metadata": {
  "kernelspec": {
   "display_name": "Python 3",
   "language": "python",
   "name": "python3"
  },
  "language_info": {
   "codemirror_mode": {
    "name": "ipython",
    "version": 3
   },
   "file_extension": ".py",
   "mimetype": "text/x-python",
   "name": "python",
   "nbconvert_exporter": "python",
   "pygments_lexer": "ipython3",
   "version": "3.6.10"
  }
 },
 "nbformat": 4,
 "nbformat_minor": 2
}
